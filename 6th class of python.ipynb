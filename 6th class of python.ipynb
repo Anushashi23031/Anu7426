{
 "cells": [
  {
   "cell_type": "code",
   "execution_count": 5,
   "metadata": {},
   "outputs": [
    {
     "name": "stdout",
     "output_type": "stream",
     "text": [
      "Enter n = 5\n",
      "Enter X = 123\n",
      "Enter X = 234\n",
      "Enter X = 45\n",
      "Enter X = 23\n",
      "Enter X = 46\n",
      "471\n"
     ]
    }
   ],
   "source": [
    "s = 0\n",
    "i = 0\n",
    "n = int(input(\"Enter n = \"))\n",
    "while i<n:\n",
    "    x = int(input(\"Enter X = \"))\n",
    "    s = s+x\n",
    "    i = i+1\n",
    "    \n",
    "print(s)"
   ]
  },
  {
   "cell_type": "code",
   "execution_count": 11,
   "metadata": {},
   "outputs": [
    {
     "name": "stdout",
     "output_type": "stream",
     "text": [
      "Enter n = 2 \n",
      "Enter name =Anu Yadav\n",
      "Enter phone = 9803064124\n",
      "Anu Yadav 9803064124\n",
      "Enter name =Shashi Yadav\n",
      "Enter phone = 987387398\n",
      "Anu Yadav 9803064124Shashi Yadav 987387398\n"
     ]
    }
   ],
   "source": [
    "n = int(input(\"Enter n = \"))\n",
    "s= str( )\n",
    "i = 0\n",
    "while i<n:\n",
    "    name = input(\"Enter name =\")\n",
    "    phone = input (\"Enter phone = \")\n",
    "    s= s+name +\" \"+ phone\n",
    "    i = i+1\n",
    "    print(s)"
   ]
  },
  {
   "cell_type": "code",
   "execution_count": 14,
   "metadata": {},
   "outputs": [
    {
     "name": "stdout",
     "output_type": "stream",
     "text": [
      "Hello world\n",
      "Hello world\n",
      "Hello world\n"
     ]
    }
   ],
   "source": [
    "#break and continue statement\n",
    "i = 0\n",
    "while i<5:\n",
    "    if i == 3:\n",
    "        break\n",
    "    print(\"Hello world\")\n",
    "    i= i+1\n",
    "    "
   ]
  },
  {
   "cell_type": "code",
   "execution_count": 1,
   "metadata": {
    "scrolled": true
   },
   "outputs": [
    {
     "name": "stdout",
     "output_type": "stream",
     "text": [
      "0 Hello world\n",
      "1 Hello world\n",
      "2 Hello world\n",
      "4 Hello world\n"
     ]
    }
   ],
   "source": [
    "i = 0\n",
    "while i<5:\n",
    "    if i == 3:\n",
    "        i = i+1\n",
    "        continue\n",
    "    print(i,\"Hello world\")\n",
    "    i= i+1\n",
    "    "
   ]
  },
  {
   "cell_type": "code",
   "execution_count": 9,
   "metadata": {},
   "outputs": [
    {
     "ename": "SyntaxError",
     "evalue": "invalid syntax (<ipython-input-9-0fcd9d569d69>, line 11)",
     "output_type": "error",
     "traceback": [
      "\u001b[0;36m  File \u001b[0;32m\"<ipython-input-9-0fcd9d569d69>\"\u001b[0;36m, line \u001b[0;32m11\u001b[0m\n\u001b[0;31m    else:\u001b[0m\n\u001b[0m    ^\u001b[0m\n\u001b[0;31mSyntaxError\u001b[0m\u001b[0;31m:\u001b[0m invalid syntax\n"
     ]
    }
   ],
   "source": [
    "#prime and continue\n",
    "n = int(input(\"Enter a number\"))\n",
    "i = 2\n",
    "if n >=2:\n",
    "    while i <=n//2:\n",
    "        if n%i==2:\n",
    "            print (\"This is composite no\")\n",
    "            break\n",
    "        i=i+1\n",
    "        \n",
    "        else:\n",
    "            print(\"This is not a composite number\")\n",
    "            \n",
    "    else:\n",
    "        print(\"This value of n should be greater or equal to 2\")\n",
    "            \n"
   ]
  },
  {
   "cell_type": "code",
   "execution_count": null,
   "metadata": {},
   "outputs": [],
   "source": []
  },
  {
   "cell_type": "code",
   "execution_count": 10,
   "metadata": {},
   "outputs": [
    {
     "name": "stdout",
     "output_type": "stream",
     "text": [
      "p\n",
      "y\n",
      "t\n",
      "h\n",
      "o\n",
      "n\n"
     ]
    }
   ],
   "source": [
    "a = \"python\"\n",
    "l = len(a)\n",
    "i = 0\n",
    "while i<l:\n",
    "    print(a[i])\n",
    "    i = i+1"
   ]
  },
  {
   "cell_type": "code",
   "execution_count": 13,
   "metadata": {},
   "outputs": [
    {
     "name": "stdout",
     "output_type": "stream",
     "text": [
      "Helloworldiampython"
     ]
    }
   ],
   "source": [
    "a = \"Hello world i am python\"\n",
    "l = len(a)\n",
    "i = 0\n",
    "while i<l:\n",
    "    if a[i]== \" \":\n",
    "        i = i+1\n",
    "        continue\n",
    "    print(a[i],end=\"\")\n",
    "    i = i+1"
   ]
  },
  {
   "cell_type": "code",
   "execution_count": null,
   "metadata": {},
   "outputs": [],
   "source": [
    "## Wap to create a billing system using for or while loop\n",
    "#Name\n",
    "#Price\n",
    "#quantity\n",
    "#total\n",
    "#Grand total\n",
    "\n",
    "\n",
    "\n",
    "\n",
    "\n",
    "# billing system using for loop\n",
    "\n",
    "grand_total =0 \n",
    "data = 0\n",
    "bills=str\n",
    "n = int(input(\"Enter n = \"))\n",
    "for i in range (n):\n",
    "    name  = input(\"Enter name = \")\n",
    "    price = int(input(\"Enter price = \"))\n",
    "    quantity = int(input(\"Enter quantity = \"))\n",
    "    total = price*quantity\n",
    "    grand_total = grand_total + total\n",
    "    bill = name + \"\"+ str(price)+\"\"+ str(quantity) +\"\\n\"\n",
    "    bills = bills + bills\n",
    "    \n",
    "print(bills)\n",
    "print(grand_total)"
   ]
  },
  {
   "cell_type": "code",
   "execution_count": null,
   "metadata": {},
   "outputs": [],
   "source": []
  }
 ],
 "metadata": {
  "kernelspec": {
   "display_name": "Python 3",
   "language": "python",
   "name": "python3"
  },
  "language_info": {
   "codemirror_mode": {
    "name": "ipython",
    "version": 3
   },
   "file_extension": ".py",
   "mimetype": "text/x-python",
   "name": "python",
   "nbconvert_exporter": "python",
   "pygments_lexer": "ipython3",
   "version": "3.8.3"
  }
 },
 "nbformat": 4,
 "nbformat_minor": 4
}
