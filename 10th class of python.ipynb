{
 "cells": [
  {
   "cell_type": "code",
   "execution_count": 1,
   "metadata": {},
   "outputs": [
    {
     "name": "stdout",
     "output_type": "stream",
     "text": [
      "['Ant', 'zebra', 'Xray', 'cat', 'Ball', 'Apple', 'Apple']\n"
     ]
    }
   ],
   "source": [
    "a = [\"apple\",\"Zebra\",\"Xray\",\"cat\",\"Ball\",\"Apple\",\"Apple\",]\n",
    "a[0:3] = [\"Ant\",\"zebra\",\"Xray\"]\n",
    "print(a)"
   ]
  },
  {
   "cell_type": "code",
   "execution_count": 2,
   "metadata": {},
   "outputs": [
    {
     "name": "stdout",
     "output_type": "stream",
     "text": [
      "['cat', 'Ball', 'Apple', 'Apple']\n"
     ]
    }
   ],
   "source": [
    "#del remove() pop()\n",
    "a = [\"apple\",\"Zebra\",\"Xray\",\"cat\",\"Ball\",\"Apple\",\"Apple\",]\n",
    "del a[0:3]\n",
    "print(a)"
   ]
  },
  {
   "cell_type": "code",
   "execution_count": 5,
   "metadata": {},
   "outputs": [
    {
     "name": "stdout",
     "output_type": "stream",
     "text": [
      "['apple', 'Zebra', 'Xray', 'Ball', 'Apple', 'Apple']\n"
     ]
    }
   ],
   "source": [
    "a = [\"apple\",\"Zebra\",\"Xray\",\"cat\",\"Ball\",\"Apple\",\"Apple\",]\n",
    "a.remove(\"cat\")\n",
    "print(a)"
   ]
  },
  {
   "cell_type": "code",
   "execution_count": 6,
   "metadata": {},
   "outputs": [
    {
     "data": {
      "text/plain": [
       "['apple', 'Xray', 'cat', 'Ball', 'Apple', 'Apple']"
      ]
     },
     "execution_count": 6,
     "metadata": {},
     "output_type": "execute_result"
    }
   ],
   "source": [
    "a = [\"apple\",\"Zebra\",\"Xray\",\"cat\",\"Ball\",\"Apple\",\"Apple\",]\n",
    "a.pop(1)\n",
    "a"
   ]
  },
  {
   "cell_type": "code",
   "execution_count": 7,
   "metadata": {},
   "outputs": [
    {
     "name": "stdout",
     "output_type": "stream",
     "text": [
      "['apple', 'Xray', 'cat', 'Ball', 'Apple', 'Apple']\n",
      "Zebra\n"
     ]
    }
   ],
   "source": [
    "a = [\"apple\",\"Zebra\",\"Xray\",\"cat\",\"Ball\",\"Apple\",\"Apple\",]\n",
    "b = a.pop(1)\n",
    "print(a)\n",
    "print(b)"
   ]
  },
  {
   "cell_type": "code",
   "execution_count": 8,
   "metadata": {},
   "outputs": [
    {
     "name": "stdout",
     "output_type": "stream",
     "text": [
      "yes\n",
      "yes\n"
     ]
    }
   ],
   "source": [
    "a = [\"apple\",\"Zebra\",\"Xray\",\"cat\",\"Ball\",\"Apple\",\"Apple\",]\n",
    "for i in a:\n",
    "    if \"Apple\"==i:\n",
    "        print(\"yes\")"
   ]
  },
  {
   "cell_type": "code",
   "execution_count": 3,
   "metadata": {},
   "outputs": [
    {
     "name": "stdout",
     "output_type": "stream",
     "text": [
      "['Zebra', 'Xray', 'cat', 'Ball', 'Apple', 'Apple']\n"
     ]
    }
   ],
   "source": [
    "a = [\"apple\",\"Zebra\",\"Xray\",\"cat\",\"Ball\",\"Apple\",\"Apple\",]\n",
    "b = []\n",
    "for i in a:\n",
    "    if\"apple\" != i:\n",
    "        b.append(i)\n",
    "    \n",
    "print(b)"
   ]
  },
  {
   "cell_type": "code",
   "execution_count": 2,
   "metadata": {},
   "outputs": [
    {
     "name": "stdout",
     "output_type": "stream",
     "text": [
      "[1, 2, 3]\n"
     ]
    }
   ],
   "source": [
    "#List inside list\n",
    "a = [[1,2,3],\n",
    "    [4,5,6],\n",
    "    [7,8,9]]\n",
    "print(a[0])"
   ]
  },
  {
   "cell_type": "code",
   "execution_count": 4,
   "metadata": {},
   "outputs": [
    {
     "name": "stdout",
     "output_type": "stream",
     "text": [
      "[1, 2, 3]\n",
      "3\n"
     ]
    }
   ],
   "source": [
    "a = [[1,2,3],\n",
    "    [4,5,6],\n",
    "    [7,8,9]]\n",
    "print(a[0])\n",
    "print(len(a))"
   ]
  },
  {
   "cell_type": "code",
   "execution_count": 5,
   "metadata": {},
   "outputs": [
    {
     "name": "stdout",
     "output_type": "stream",
     "text": [
      "3\n"
     ]
    }
   ],
   "source": [
    "print(a[0][2])"
   ]
  },
  {
   "cell_type": "code",
   "execution_count": 6,
   "metadata": {},
   "outputs": [
    {
     "name": "stdout",
     "output_type": "stream",
     "text": [
      "[['ram', 45, 'kathmandu'], ['shyam', 34, 'bhaktapur'], ['hari', 23, 'lalitpur']]\n"
     ]
    }
   ],
   "source": [
    "a = [[\"ram\",45,\"kathmandu\"],\n",
    "    [\"shyam\",34,\"bhaktapur\"],\n",
    "    [\"hari\",23,\"lalitpur\"]]\n",
    "print(a)"
   ]
  },
  {
   "cell_type": "code",
   "execution_count": null,
   "metadata": {},
   "outputs": [],
   "source": []
  },
  {
   "cell_type": "code",
   "execution_count": 7,
   "metadata": {},
   "outputs": [
    {
     "name": "stdout",
     "output_type": "stream",
     "text": [
      "['ram', 45, 'kathmandu']\n",
      "['shyam', 34, 'bhaktapur']\n",
      "['hari', 23, 'lalitpur']\n"
     ]
    }
   ],
   "source": [
    "for i in a:\n",
    "    print (i)"
   ]
  },
  {
   "cell_type": "markdown",
   "metadata": {},
   "source": []
  },
  {
   "cell_type": "code",
   "execution_count": 9,
   "metadata": {},
   "outputs": [
    {
     "name": "stdout",
     "output_type": "stream",
     "text": [
      "Enter name = ram\n",
      "['ram', 45, 'kathmandu']\n"
     ]
    }
   ],
   "source": [
    "name = input(\"Enter name = \")\n",
    "for i in a:\n",
    "    if name in i:\n",
    "        print(i)\n",
    "        "
   ]
  },
  {
   "cell_type": "code",
   "execution_count": 11,
   "metadata": {},
   "outputs": [
    {
     "data": {
      "text/plain": [
       "[[1, 'Rama', 34, 'Bhaktapur'],\n",
       " ['shyam', 34, 'bhaktapur'],\n",
       " ['hari', 23, 'lalitpur']]"
      ]
     },
     "execution_count": 11,
     "metadata": {},
     "output_type": "execute_result"
    }
   ],
   "source": [
    "#update\n",
    "a[0] = [1,\"Rama\",34,\"Bhaktapur\"]\n",
    "a"
   ]
  },
  {
   "cell_type": "code",
   "execution_count": 14,
   "metadata": {},
   "outputs": [
    {
     "data": {
      "text/plain": [
       "[[1, 'Rama', 34, 'Bhaktapur'],\n",
       " [2, 'Shyam', 78, 'kathmandu'],\n",
       " [3, 'Nabin', 45, 'Bara']]"
      ]
     },
     "execution_count": 14,
     "metadata": {},
     "output_type": "execute_result"
    }
   ],
   "source": [
    "info=[[1,\"Rama\",34,\"Bhaktapur\"],\n",
    " [2,\"Shyam\",78,\"kathmandu\"],\n",
    " [3,\"Nabin\",45,\"Bara\"]]\n",
    "info"
   ]
  },
  {
   "cell_type": "code",
   "execution_count": 15,
   "metadata": {},
   "outputs": [
    {
     "data": {
      "text/plain": [
       "[[1, 'sita', 34, 'bhaktapur'],\n",
       " [2, 'Shyam', 78, 'kathmandu'],\n",
       " [3, 'Nabin', 45, 'Bara']]"
      ]
     },
     "execution_count": 15,
     "metadata": {},
     "output_type": "execute_result"
    }
   ],
   "source": [
    "info[0][1] = \"sita\"\n",
    "info[0][3] = \"bhaktapur\"\n",
    "info"
   ]
  },
  {
   "cell_type": "code",
   "execution_count": 16,
   "metadata": {},
   "outputs": [],
   "source": [
    "# wap to create list inside list (matrix) with given row and column\n"
   ]
  },
  {
   "cell_type": "markdown",
   "metadata": {},
   "source": [
    "#### l = []\n",
    "r = int(input(\"Enter r = \"))\n",
    "c = int(input(\"Enter c = \"))\n",
    "for i in range(r):\n",
    "    y = []\n",
    "    for j in range(c):\n",
    "        x = int(input(\"Enter x = \"))\n",
    "        y.append(x)\n",
    "            \n",
    "    l.append(y)\n",
    "print(1)"
   ]
  },
  {
   "cell_type": "code",
   "execution_count": null,
   "metadata": {},
   "outputs": [],
   "source": []
  }
 ],
 "metadata": {
  "kernelspec": {
   "display_name": "Python 3",
   "language": "python",
   "name": "python3"
  },
  "language_info": {
   "codemirror_mode": {
    "name": "ipython",
    "version": 3
   },
   "file_extension": ".py",
   "mimetype": "text/x-python",
   "name": "python",
   "nbconvert_exporter": "python",
   "pygments_lexer": "ipython3",
   "version": "3.8.3"
  }
 },
 "nbformat": 4,
 "nbformat_minor": 4
}
