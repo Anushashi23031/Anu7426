{
 "cells": [
  {
   "cell_type": "code",
   "execution_count": 1,
   "metadata": {},
   "outputs": [
    {
     "data": {
      "text/plain": [
       "str"
      ]
     },
     "execution_count": 1,
     "metadata": {},
     "output_type": "execute_result"
    }
   ],
   "source": [
    "#Tuple\n",
    "#no append \n",
    "#no del #no pop()\n",
    "# no reverse\n",
    "\n",
    "\n",
    "a = (\"apple\")\n",
    "type(a)\n"
   ]
  },
  {
   "cell_type": "code",
   "execution_count": 2,
   "metadata": {},
   "outputs": [
    {
     "data": {
      "text/plain": [
       "('apple', 'ball')"
      ]
     },
     "execution_count": 2,
     "metadata": {},
     "output_type": "execute_result"
    }
   ],
   "source": [
    "a = ()\n",
    "b = (\"apple\",)\n",
    "c = (\"ball\",)\n",
    "d = a+b+c\n",
    "d"
   ]
  },
  {
   "cell_type": "code",
   "execution_count": 5,
   "metadata": {},
   "outputs": [
    {
     "name": "stdout",
     "output_type": "stream",
     "text": [
      "Enter tuple = 4\n",
      "Enter x = sdf\n",
      "Enter x = df\n",
      "Enter x = sd\n",
      "Enter x = df\n",
      "('sdf', 'df', 'sd', 'df')\n"
     ]
    }
   ],
   "source": [
    "t = ()\n",
    "n = int(input(\"Enter tuple = \"))\n",
    "for i in range(n):\n",
    "    x = input(\"Enter x = \")\n",
    "    t = t+(x,)\n",
    "print(t)"
   ]
  },
  {
   "cell_type": "code",
   "execution_count": 7,
   "metadata": {},
   "outputs": [
    {
     "name": "stdout",
     "output_type": "stream",
     "text": [
      "[1, 2, 3, 4, 'apple', 'Ball']\n"
     ]
    },
    {
     "data": {
      "text/plain": [
       "(2, 3, 4, 'apple', 'Ball')"
      ]
     },
     "execution_count": 7,
     "metadata": {},
     "output_type": "execute_result"
    }
   ],
   "source": [
    "#max() min() sum()\n",
    "#static data \n",
    "#it is permanent\n",
    "\n",
    "\n",
    "a = (1,2,3,4,\"apple\",\"Ball\")\n",
    "b = list(a)\n",
    "print(b)\n",
    "del b [0]\n",
    "a = tuple(b)\n",
    "a\n",
    "\n",
    "\n",
    "\n",
    "\n"
   ]
  },
  {
   "cell_type": "code",
   "execution_count": 8,
   "metadata": {},
   "outputs": [],
   "source": [
    "#tuple inside tuple\n",
    "#list inside tuple\n",
    "#tuple inside list"
   ]
  },
  {
   "cell_type": "code",
   "execution_count": 12,
   "metadata": {},
   "outputs": [
    {
     "name": "stdout",
     "output_type": "stream",
     "text": [
      "Enter x = dfgfd\n",
      "Enter x = jnxn\n",
      "Enter x = bh22\n",
      "Enter x = 7yyhw\n",
      "Enter x = bnb\n",
      "Enter x =  mwnmw\n",
      "Enter x =  nsd\n",
      "Enter x = dwdw\n",
      "Enter x = dws\n",
      "Enter x = bvdxb\n",
      "Enter x = nswns\n",
      "Enter x = sbvsb\n",
      "('bvdxb', 'nswns', 'sbvsb')\n"
     ]
    }
   ],
   "source": [
    "#tuple inside tuple\n",
    "#a = ((1,2,3),(4,5,6),(7,8,9))\n",
    "a = ()\n",
    "r = 3\n",
    "c = 3\n",
    "for i in range(n):\n",
    "    t = ()\n",
    "    for j in range(3):\n",
    "        x = input (\"Enter x = \")\n",
    "        t = t+(x,)\n",
    "    a = a+(t,)\n",
    "print(t)"
   ]
  },
  {
   "cell_type": "code",
   "execution_count": 13,
   "metadata": {},
   "outputs": [
    {
     "data": {
      "text/plain": [
       "[['b', 'v', 'd', 'x', 'b'],\n",
       " ['n', 's', 'w', 'n', 's'],\n",
       " ['s', 'b', 'v', 's', 'b']]"
      ]
     },
     "execution_count": 13,
     "metadata": {},
     "output_type": "execute_result"
    }
   ],
   "source": [
    "b= []\n",
    "a = ('bvdxb', 'nswns', 'sbvsb')\n",
    "for i in a:\n",
    "    b.append(list(i))\n",
    "    \n",
    "    \n",
    "b\n"
   ]
  },
  {
   "cell_type": "code",
   "execution_count": 16,
   "metadata": {},
   "outputs": [
    {
     "data": {
      "text/plain": [
       "(('bvdxb',), ('nswns',), ('sbvsb',))"
      ]
     },
     "execution_count": 16,
     "metadata": {},
     "output_type": "execute_result"
    }
   ],
   "source": [
    "t = ()\n",
    "a =[['bvdxb'], ['nswns'], ['sbvsb']]\n",
    "for i in a:\n",
    "    t = t+(tuple(i),)\n",
    "    \n",
    "t"
   ]
  },
  {
   "cell_type": "code",
   "execution_count": 17,
   "metadata": {},
   "outputs": [
    {
     "data": {
      "text/plain": [
       "([1, 2, 3, 4], [4, 5, 6], [7, 8, 9])"
      ]
     },
     "execution_count": 17,
     "metadata": {},
     "output_type": "execute_result"
    }
   ],
   "source": [
    "#List inside tuple\n",
    "t = ([1,2,3],[4,5,6],[7,8,9])\n",
    "t[0].append(4)\n",
    "t"
   ]
  },
  {
   "cell_type": "code",
   "execution_count": 19,
   "metadata": {},
   "outputs": [
    {
     "data": {
      "text/plain": [
       "([1, 2, 3], [4, 5, 6], [7, 8, 9])"
      ]
     },
     "execution_count": 19,
     "metadata": {},
     "output_type": "execute_result"
    }
   ],
   "source": [
    "a = ([1,2,3,4],[4,5,6],[7,8,9])\n",
    "del a [0][3]\n",
    "a"
   ]
  },
  {
   "cell_type": "code",
   "execution_count": 20,
   "metadata": {},
   "outputs": [
    {
     "data": {
      "text/plain": [
       "(1, 2, 3)"
      ]
     },
     "execution_count": 20,
     "metadata": {},
     "output_type": "execute_result"
    }
   ],
   "source": [
    "#tuple inside list\n",
    "a = [(1,2,3),(4,5,6),(7,8,9)]\n",
    "a[0]"
   ]
  },
  {
   "cell_type": "code",
   "execution_count": 21,
   "metadata": {},
   "outputs": [
    {
     "data": {
      "text/plain": [
       "(1, 2, 3, 4)"
      ]
     },
     "execution_count": 21,
     "metadata": {},
     "output_type": "execute_result"
    }
   ],
   "source": [
    "a[0]+(4,)"
   ]
  },
  {
   "cell_type": "code",
   "execution_count": 23,
   "metadata": {},
   "outputs": [
    {
     "data": {
      "text/plain": [
       "[(1, 2, 3), (4, 5, 6), (7, 8, 9), (10, 11, 12)]"
      ]
     },
     "execution_count": 23,
     "metadata": {},
     "output_type": "execute_result"
    }
   ],
   "source": [
    "a.append((10,11,12))\n",
    "a"
   ]
  },
  {
   "cell_type": "code",
   "execution_count": null,
   "metadata": {},
   "outputs": [],
   "source": [
    "#www.w3schools.com"
   ]
  }
 ],
 "metadata": {
  "kernelspec": {
   "display_name": "Python 3",
   "language": "python",
   "name": "python3"
  },
  "language_info": {
   "codemirror_mode": {
    "name": "ipython",
    "version": 3
   },
   "file_extension": ".py",
   "mimetype": "text/x-python",
   "name": "python",
   "nbconvert_exporter": "python",
   "pygments_lexer": "ipython3",
   "version": "3.8.3"
  }
 },
 "nbformat": 4,
 "nbformat_minor": 4
}
