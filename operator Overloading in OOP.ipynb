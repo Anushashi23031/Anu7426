{
 "cells": [
  {
   "cell_type": "code",
   "execution_count": null,
   "metadata": {},
   "outputs": [],
   "source": [
    "Class point:\n",
    "    def__init__(self, x=0, y = 0):\n",
    "        self.x = x\n",
    "        self.y = y\n",
    "        \n",
    "    def__str__(self):\n",
    "        return\"({0},{1}.format(self.x,self.y))\n",
    "    \n",
    "    def__add__(self,other):\n",
    "        x = self.x + other.X\n",
    "        y = self.y + other.y\n",
    "        return point(x,y)\n",
    "    \n",
    "P1 = point(2,3)\n",
    "p2 = point(-1,2)\n",
    "print(P1 + P2)\n"
   ]
  }
 ],
 "metadata": {
  "kernelspec": {
   "display_name": "Python 3",
   "language": "python",
   "name": "python3"
  },
  "language_info": {
   "codemirror_mode": {
    "name": "ipython",
    "version": 3
   },
   "file_extension": ".py",
   "mimetype": "text/x-python",
   "name": "python",
   "nbconvert_exporter": "python",
   "pygments_lexer": "ipython3",
   "version": "3.8.3"
  }
 },
 "nbformat": 4,
 "nbformat_minor": 4
}
