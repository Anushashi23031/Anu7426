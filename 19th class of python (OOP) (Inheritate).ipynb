{
 "cells": [
  {
   "cell_type": "code",
   "execution_count": 1,
   "metadata": {
    "scrolled": true
   },
   "outputs": [
    {
     "ename": "SyntaxError",
     "evalue": "invalid syntax (<ipython-input-1-11e3fdd6ee03>, line 2)",
     "output_type": "error",
     "traceback": [
      "\u001b[0;36m  File \u001b[0;32m\"<ipython-input-1-11e3fdd6ee03>\"\u001b[0;36m, line \u001b[0;32m2\u001b[0m\n\u001b[0;31m    Class Info\u001b[0m\n\u001b[0m          ^\u001b[0m\n\u001b[0;31mSyntaxError\u001b[0m\u001b[0;31m:\u001b[0m invalid syntax\n"
     ]
    }
   ],
   "source": [
    "#public members\n",
    "Class Info\n",
    "   def_init_(self,name,age,add):\n",
    "        self.name = name\n",
    "        self.age = age\n",
    "        self.add = add\n",
    "        \n",
    "               \n",
    "obj = Info(\"Ram\",34,\"Kathmandu\")\n",
    "print(obj._name)\n",
    "print(obj._age)\n",
    "print(obj_add)"
   ]
  },
  {
   "cell_type": "code",
   "execution_count": 2,
   "metadata": {},
   "outputs": [
    {
     "ename": "SyntaxError",
     "evalue": "invalid syntax (<ipython-input-2-4ab183e11f4b>, line 1)",
     "output_type": "error",
     "traceback": [
      "\u001b[0;36m  File \u001b[0;32m\"<ipython-input-2-4ab183e11f4b>\"\u001b[0;36m, line \u001b[0;32m1\u001b[0m\n\u001b[0;31m    Class A:\u001b[0m\n\u001b[0m          ^\u001b[0m\n\u001b[0;31mSyntaxError\u001b[0m\u001b[0;31m:\u001b[0m invalid syntax\n"
     ]
    }
   ],
   "source": [
    "Class A:\n",
    "   def_init_(self,name,age,add):\n",
    "        self.name = name\n",
    "        self.age = age\n",
    "        def a self():\n",
    "            print(f*Hello wolrd I am {self.age}\")\n",
    "        \n",
    "               \n",
    "class (B)\n",
    "    def info(self):\n",
    "        data = f*Hello world I am {self._name}.\"\n",
    "        print (data)\n",
    "                  \n",
    "obj = B(\"Ram , 30\")\n",
    "obj.info()\n",
    "obj.a()"
   ]
  },
  {
   "cell_type": "code",
   "execution_count": 3,
   "metadata": {},
   "outputs": [
    {
     "ename": "SyntaxError",
     "evalue": "invalid syntax (<ipython-input-3-81699eea8916>, line 2)",
     "output_type": "error",
     "traceback": [
      "\u001b[0;36m  File \u001b[0;32m\"<ipython-input-3-81699eea8916>\"\u001b[0;36m, line \u001b[0;32m2\u001b[0m\n\u001b[0;31m    Class A:\u001b[0m\n\u001b[0m          ^\u001b[0m\n\u001b[0;31mSyntaxError\u001b[0m\u001b[0;31m:\u001b[0m invalid syntax\n"
     ]
    }
   ],
   "source": [
    "#multi class\n",
    "Class A:\n",
    "    def__init__(self,add):\n",
    "        self._add = add\n",
    "        def name(self):\n",
    "            print(self.name)\n",
    "            \n",
    "Class B:\n",
    "    def__init__(self,name,age,add)\n",
    "    self.__name =\"Ram\"\n",
    "    A.__init__(self,add)\n",
    "    B.__init__(self,age)\n",
    "    \n",
    "    def info(self):\n",
    "        \n",
    "        con tinuiiiiiiii\n",
    "        \n",
    "        \n",
    "        \n",
    "        \n",
    "        \n",
    "        \n",
    "        "
   ]
  },
  {
   "cell_type": "code",
   "execution_count": 6,
   "metadata": {},
   "outputs": [
    {
     "ename": "SyntaxError",
     "evalue": "invalid syntax (<ipython-input-6-0121b431311a>, line 1)",
     "output_type": "error",
     "traceback": [
      "\u001b[0;36m  File \u001b[0;32m\"<ipython-input-6-0121b431311a>\"\u001b[0;36m, line \u001b[0;32m1\u001b[0m\n\u001b[0;31m    Class A:\u001b[0m\n\u001b[0m          ^\u001b[0m\n\u001b[0;31mSyntaxError\u001b[0m\u001b[0;31m:\u001b[0m invalid syntax\n"
     ]
    }
   ],
   "source": [
    "Class A:\n",
    "    def__init__(self,name,age):\n",
    "        self.name = name\n",
    "        self.__age = age\n",
    "    def a(self):\n",
    "        print(hello world I am {self.__age}.\"\n",
    "              \n",
    "Class B(A):\n",
    "    def info(self):\n",
    "        data = f\"Hello world I am {self._name}.\"\n",
    "        print(data)\n",
    "        super().a()\n",
    "        \n",
    "obj = B(\"Ram\",30)\n",
    "obj.info()\n",
    "#obj.a()"
   ]
  },
  {
   "cell_type": "code",
   "execution_count": null,
   "metadata": {},
   "outputs": [],
   "source": []
  }
 ],
 "metadata": {
  "kernelspec": {
   "display_name": "Python 3",
   "language": "python",
   "name": "python3"
  },
  "language_info": {
   "codemirror_mode": {
    "name": "ipython",
    "version": 3
   },
   "file_extension": ".py",
   "mimetype": "text/x-python",
   "name": "python",
   "nbconvert_exporter": "python",
   "pygments_lexer": "ipython3",
   "version": "3.8.3"
  }
 },
 "nbformat": 4,
 "nbformat_minor": 4
}
