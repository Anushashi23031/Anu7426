{
 "cells": [
  {
   "cell_type": "code",
   "execution_count": 1,
   "metadata": {},
   "outputs": [],
   "source": [
    "#list-collection of data,we can also enlarge by multiplication\n",
    "#ordered\n",
    "#Multiple values\n",
    "#mutable\n",
    "#inclosed within\n"
   ]
  },
  {
   "cell_type": "code",
   "execution_count": 5,
   "metadata": {},
   "outputs": [
    {
     "name": "stdout",
     "output_type": "stream",
     "text": [
      "[1, 2, 3, 4, 5, 6, 'apple', 'ball', 'cat', 'dog', 'fish']\n"
     ]
    }
   ],
   "source": [
    "b = [\"apple\",\"ball\",\"cat\",\"dog\",\"fish\"]\n",
    "a = [1,2,3,4,5,6]\n",
    "c = a+b\n",
    "print(c)"
   ]
  },
  {
   "cell_type": "code",
   "execution_count": 6,
   "metadata": {},
   "outputs": [
    {
     "name": "stdout",
     "output_type": "stream",
     "text": [
      "[1, 2, 3, 4, 5, 6, 'apple', 'ball', 'cat', 'dog', 'fish']\n"
     ]
    }
   ],
   "source": [
    "a = []\n",
    "a = list()\n",
    "b = [\"apple\",\"ball\",\"cat\",\"dog\",\"fish\"]\n",
    "print(c)"
   ]
  },
  {
   "cell_type": "code",
   "execution_count": 7,
   "metadata": {},
   "outputs": [
    {
     "name": "stdout",
     "output_type": "stream",
     "text": [
      "[[], 2, 3, 4, 5, 6, [], 2, 3, 4, 5, 6]\n"
     ]
    }
   ],
   "source": [
    "a = [a,2,3,4,5,6]\n",
    "print(a*2)"
   ]
  },
  {
   "cell_type": "code",
   "execution_count": 8,
   "metadata": {},
   "outputs": [
    {
     "name": "stdout",
     "output_type": "stream",
     "text": [
      "['Ant', 'ball', 'cat', 'dog', 'fish']\n"
     ]
    }
   ],
   "source": [
    "b = [\"apple\",\"ball\",\"cat\",\"dog\",\"fish\"]\n",
    "b[0] = 'Ant'\n",
    "print(b)"
   ]
  },
  {
   "cell_type": "code",
   "execution_count": 9,
   "metadata": {},
   "outputs": [],
   "source": [
    "#oppend() insert() extend()\n"
   ]
  },
  {
   "cell_type": "code",
   "execution_count": 10,
   "metadata": {},
   "outputs": [
    {
     "name": "stdout",
     "output_type": "stream",
     "text": [
      "['apple', 'Ball', 'cat']\n"
     ]
    }
   ],
   "source": [
    "a = []\n",
    "a.append(\"apple\")\n",
    "a.append('Ball')\n",
    "a.append(\"cat\")\n",
    "print(a)"
   ]
  },
  {
   "cell_type": "code",
   "execution_count": 1,
   "metadata": {},
   "outputs": [
    {
     "name": "stdout",
     "output_type": "stream",
     "text": [
      "Enter n = 5\n",
      "Enter x = 45\n",
      "[45]\n",
      "Enter x = 3848\n",
      "[45, 3848]\n",
      "Enter x = 43\n",
      "[45, 3848, 43]\n",
      "Enter x = 38\n",
      "[45, 3848, 43, 38]\n",
      "Enter x = 84\n",
      "[45, 3848, 43, 38, 84]\n"
     ]
    }
   ],
   "source": [
    "a = list()\n",
    "n = int(input(\"Enter n = \"))\n",
    "for i in range(n):\n",
    "    x = int(input(\"Enter x = \"))\n",
    "    a.append(x)\n",
    "    \n",
    "    print(a)"
   ]
  },
  {
   "cell_type": "code",
   "execution_count": 2,
   "metadata": {},
   "outputs": [
    {
     "name": "stdout",
     "output_type": "stream",
     "text": [
      "The max value =  3848\n",
      "The max value =  3848\n",
      "[43, 45, 84, 3848]\n"
     ]
    }
   ],
   "source": [
    "a = [45, 3848, 43, 84]\n",
    "print(\"The max value = \",max(a))\n",
    "print(\"The max value = \",max(a))\n",
    "a.sort()\n",
    "print(a)"
   ]
  },
  {
   "cell_type": "code",
   "execution_count": 3,
   "metadata": {},
   "outputs": [
    {
     "name": "stdout",
     "output_type": "stream",
     "text": [
      "The max value =  3848\n",
      "The max value =  3848\n",
      "[43, 45, 84, 3848]\n",
      "[3848, 84, 45, 43]\n"
     ]
    }
   ],
   "source": [
    "a = [45, 3848, 43, 84]\n",
    "print(\"The max value = \",max(a))\n",
    "print(\"The max value = \",max(a))\n",
    "a.sort()\n",
    "print(a)\n",
    "a.reverse()\n",
    "print(a)"
   ]
  },
  {
   "cell_type": "code",
   "execution_count": 4,
   "metadata": {},
   "outputs": [
    {
     "name": "stdout",
     "output_type": "stream",
     "text": [
      "['ball,cat', 'xray']\n",
      "['xray', 'ball,cat']\n"
     ]
    }
   ],
   "source": [
    "a = [\"ball,\"\"cat\", \"xray\",]\n",
    "a.sort()\n",
    "print(a)\n",
    "a.reverse()\n",
    "print(a)"
   ]
  },
  {
   "cell_type": "code",
   "execution_count": 5,
   "metadata": {},
   "outputs": [
    {
     "name": "stdout",
     "output_type": "stream",
     "text": [
      "xray\n",
      "ball,cat\n"
     ]
    }
   ],
   "source": [
    "for i in a:\n",
    "    print(i)"
   ]
  },
  {
   "cell_type": "code",
   "execution_count": 14,
   "metadata": {},
   "outputs": [
    {
     "name": "stdout",
     "output_type": "stream",
     "text": [
      "Enter search = cat\n",
      "yes\n",
      "1\n"
     ]
    }
   ],
   "source": [
    "a = [\"ball\",\"cat\",\"xray\",]\n",
    "search = input(\"Enter search = \")\n",
    "if search in a:\n",
    "    print(\"yes\")\n",
    "    print(a.count(search))"
   ]
  },
  {
   "cell_type": "code",
   "execution_count": 18,
   "metadata": {},
   "outputs": [
    {
     "name": "stdout",
     "output_type": "stream",
     "text": [
      "Enter search = ball\n"
     ]
    }
   ],
   "source": [
    "a = [\"ball\",\"cat\",\"xray\",]\n",
    "search = input(\"Enter search = \")\n",
    "c = 0\n",
    "if i in a:\n",
    "    if i.lower() in a:\n",
    "        c = c+1\n",
    "    print(\"yes\",c)\n",
    "    "
   ]
  },
  {
   "cell_type": "code",
   "execution_count": 27,
   "metadata": {},
   "outputs": [
    {
     "name": "stdout",
     "output_type": "stream",
     "text": [
      "Enter search = ball\n",
      "yes 1\n"
     ]
    }
   ],
   "source": [
    "a = [\"ball\",\"cat\",\"xray\",]\n",
    "search = input(\"Enter search = \")\n",
    "c = 0\n",
    "l =len(a)\n",
    "for i in range(l):\n",
    "    if search.lower() == a[i].lower():\n",
    "        c = c+1\n",
    "if c>0:\n",
    "        print(\"yes\",c)\n",
    "else:\n",
    "        print(\"No\")\n",
    "    "
   ]
  },
  {
   "cell_type": "code",
   "execution_count": 28,
   "metadata": {},
   "outputs": [
    {
     "data": {
      "text/plain": [
       "['ball', 'cat', 'xray', 'xray']"
      ]
     },
     "execution_count": 28,
     "metadata": {},
     "output_type": "execute_result"
    }
   ],
   "source": [
    "a = [\"ball\",\"cat\",\"xray\",]\n",
    "a.insert(2,\"xray\")\n",
    "a"
   ]
  },
  {
   "cell_type": "code",
   "execution_count": 32,
   "metadata": {},
   "outputs": [
    {
     "name": "stdout",
     "output_type": "stream",
     "text": [
      "['ball', 'cat', 'xray', 1, 2, 3, 4]\n"
     ]
    }
   ],
   "source": [
    "a = [\"ball\",\"cat\",\"xray\",]\n",
    "b = [1,2,3,4]\n",
    "a.extend(b)\n",
    "print(a)"
   ]
  },
  {
   "cell_type": "code",
   "execution_count": 33,
   "metadata": {},
   "outputs": [
    {
     "data": {
      "text/plain": [
       "['a', 'p', 'p', 'l', 'e']"
      ]
     },
     "execution_count": 33,
     "metadata": {},
     "output_type": "execute_result"
    }
   ],
   "source": [
    "a = \"apple\"\n",
    "list(a)\n"
   ]
  },
  {
   "cell_type": "code",
   "execution_count": 35,
   "metadata": {},
   "outputs": [
    {
     "data": {
      "text/plain": [
       "0"
      ]
     },
     "execution_count": 35,
     "metadata": {},
     "output_type": "execute_result"
    }
   ],
   "source": [
    "#index()\n",
    "a = [\"apple\",\"Zebra\",\"Xray\",\"cat\",\"ball\",\"apple\",\"apple\"]\n",
    "a.index(\"apple\")"
   ]
  },
  {
   "cell_type": "code",
   "execution_count": null,
   "metadata": {},
   "outputs": [],
   "source": [
    "a = [\"apple\",\"Zebra\",\"Xray\",\"cat\",\"ball\",\"apple\",\"apple\"]\n",
    "search = input(\"Enter search = \")\n",
    "for i in range(len(a)):\n",
    "    if search == a[i]:\n",
    "        print(a)"
   ]
  },
  {
   "cell_type": "code",
   "execution_count": null,
   "metadata": {},
   "outputs": [],
   "source": []
  }
 ],
 "metadata": {
  "kernelspec": {
   "display_name": "Python 3",
   "language": "python",
   "name": "python3"
  },
  "language_info": {
   "codemirror_mode": {
    "name": "ipython",
    "version": 3
   },
   "file_extension": ".py",
   "mimetype": "text/x-python",
   "name": "python",
   "nbconvert_exporter": "python",
   "pygments_lexer": "ipython3",
   "version": "3.8.3"
  }
 },
 "nbformat": 4,
 "nbformat_minor": 4
}
